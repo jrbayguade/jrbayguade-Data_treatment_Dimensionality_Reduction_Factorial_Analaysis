{
 "cells": [
  {
   "cell_type": "markdown",
   "id": "275cd46b",
   "metadata": {},
   "source": [
    "# **Practical implementation of the Factor Analysis for dimensionality reduction in Python**\n",
    "Factor Analysis (FA) is a powerful statistical method used for dimensionality reduction. It helps uncover latent variables, or \"factors,\" that explain the correlations among observed variables. In this exercise, I'll walk through a practical implementation of Factor Analysis using Python, leveraging libraries such as scikit-learn and pandas, and apply it to a real-world dataset to demonstrate how it can simplify complex data while preserving meaningful structure.\n",
    "\n",
    "Sources:<br>\n",
    "[A simple example of Factor Analysis in Python (Freie Universität, Berlin)](https://www.geo.fu-berlin.de/en/v/soga-py/Advanced-statistics/Multivariate-Approaches/Factor-Analysis/A-Simple-Example-of-Factor-Analysis-in-Python/index.html)"
   ]
  },
  {
   "cell_type": "code",
   "execution_count": 35,
   "id": "966dcd3c",
   "metadata": {},
   "outputs": [],
   "source": [
    "# Import required libraries\n",
    "import pandas as pd\n",
    "import matplotlib.pyplot as plt\n",
    "import numpy as np\n",
    "\n",
    "from sklearn.decomposition import FactorAnalysis # Factor Analysis sklearn's class\n",
    "from sklearn.preprocessing import StandardScaler # We will need to standarize quantitative variables"
   ]
  },
  {
   "cell_type": "code",
   "execution_count": 36,
   "id": "87f70619",
   "metadata": {},
   "outputs": [
    {
     "data": {
      "application/vnd.microsoft.datawrangler.viewer.v0+json": {
       "columns": [
        {
         "name": "index",
         "rawType": "object",
         "type": "string"
        },
        {
         "name": "Oil",
         "rawType": "float64",
         "type": "float"
        },
        {
         "name": "Density",
         "rawType": "int64",
         "type": "integer"
        },
        {
         "name": "Crispy",
         "rawType": "int64",
         "type": "integer"
        },
        {
         "name": "Fracture",
         "rawType": "int64",
         "type": "integer"
        },
        {
         "name": "Hardness",
         "rawType": "int64",
         "type": "integer"
        }
       ],
       "conversionMethod": "pd.DataFrame",
       "ref": "ce85915d-7901-4d53-aaa3-69cb45db34b8",
       "rows": [
        [
         "B110",
         "16.5",
         "2955",
         "10",
         "23",
         "97"
        ],
        [
         "B136",
         "17.7",
         "2660",
         "14",
         "9",
         "139"
        ],
        [
         "B171",
         "16.2",
         "2870",
         "12",
         "17",
         "143"
        ],
        [
         "B192",
         "16.7",
         "2920",
         "10",
         "31",
         "95"
        ],
        [
         "B225",
         "16.3",
         "2975",
         "11",
         "26",
         "143"
        ]
       ],
       "shape": {
        "columns": 5,
        "rows": 5
       }
      },
      "text/html": [
       "<div>\n",
       "<style scoped>\n",
       "    .dataframe tbody tr th:only-of-type {\n",
       "        vertical-align: middle;\n",
       "    }\n",
       "\n",
       "    .dataframe tbody tr th {\n",
       "        vertical-align: top;\n",
       "    }\n",
       "\n",
       "    .dataframe thead th {\n",
       "        text-align: right;\n",
       "    }\n",
       "</style>\n",
       "<table border=\"1\" class=\"dataframe\">\n",
       "  <thead>\n",
       "    <tr style=\"text-align: right;\">\n",
       "      <th></th>\n",
       "      <th>Oil</th>\n",
       "      <th>Density</th>\n",
       "      <th>Crispy</th>\n",
       "      <th>Fracture</th>\n",
       "      <th>Hardness</th>\n",
       "    </tr>\n",
       "  </thead>\n",
       "  <tbody>\n",
       "    <tr>\n",
       "      <th>B110</th>\n",
       "      <td>16.5</td>\n",
       "      <td>2955</td>\n",
       "      <td>10</td>\n",
       "      <td>23</td>\n",
       "      <td>97</td>\n",
       "    </tr>\n",
       "    <tr>\n",
       "      <th>B136</th>\n",
       "      <td>17.7</td>\n",
       "      <td>2660</td>\n",
       "      <td>14</td>\n",
       "      <td>9</td>\n",
       "      <td>139</td>\n",
       "    </tr>\n",
       "    <tr>\n",
       "      <th>B171</th>\n",
       "      <td>16.2</td>\n",
       "      <td>2870</td>\n",
       "      <td>12</td>\n",
       "      <td>17</td>\n",
       "      <td>143</td>\n",
       "    </tr>\n",
       "    <tr>\n",
       "      <th>B192</th>\n",
       "      <td>16.7</td>\n",
       "      <td>2920</td>\n",
       "      <td>10</td>\n",
       "      <td>31</td>\n",
       "      <td>95</td>\n",
       "    </tr>\n",
       "    <tr>\n",
       "      <th>B225</th>\n",
       "      <td>16.3</td>\n",
       "      <td>2975</td>\n",
       "      <td>11</td>\n",
       "      <td>26</td>\n",
       "      <td>143</td>\n",
       "    </tr>\n",
       "  </tbody>\n",
       "</table>\n",
       "</div>"
      ],
      "text/plain": [
       "       Oil  Density  Crispy  Fracture  Hardness\n",
       "B110  16.5     2955      10        23        97\n",
       "B136  17.7     2660      14         9       139\n",
       "B171  16.2     2870      12        17       143\n",
       "B192  16.7     2920      10        31        95\n",
       "B225  16.3     2975      11        26       143"
      ]
     },
     "execution_count": 36,
     "metadata": {},
     "output_type": "execute_result"
    }
   ],
   "source": [
    "food = pd.read_csv(\"https://userpage.fu-berlin.de/soga/300/30100_data_sets/food-texture.csv\", index_col=0)\n",
    "food.head()\n",
    "\n",
    "# Dataset source:\n",
    "# https://openmv.net/info/food-texture"
   ]
  },
  {
   "cell_type": "markdown",
   "id": "d2ac4bcc",
   "metadata": {},
   "source": [
    "One tricky parameter of the FactorAnalysis class is getting right the number of components (factors)\n",
    "\n",
    "```Python\n",
    "FactorAnalysis(n_components = <factors>)\n",
    "```\n",
    "\n",
    "You can either make an educated guess if you know the data well, or you can just peform a [principal component analysis (PCA)](https://github.com/jrbayguade/DataTreatment_DimensionalityReduction_PCA/blob/PCA_Class/T7_1_PCA_Principal_Component_Analysis.ipynb) first and get a good estimate of the number of factors.\n",
    "\n",
    "In this example we set the number of factors to be ```Python factors = 2```"
   ]
  },
  {
   "cell_type": "code",
   "execution_count": 37,
   "id": "9b5a498a",
   "metadata": {},
   "outputs": [
    {
     "data": {
      "image/png": "[encoded data removed]",
      "text/plain": [
       "<Figure size 500x400 with 3 Axes>"
      ]
     },
     "metadata": {},
     "output_type": "display_data"
    }
   ],
   "source": [
    "X = StandardScaler().fit_transform(food)  # Standardize the data\n",
    "factors = 2\n",
    "#  a list of 2 tuples containing titles for and instances of or class\n",
    "fas = [\n",
    "    (\"FA no rotation\", FactorAnalysis(n_components = factors)),\n",
    "    (\"FA varimax\", FactorAnalysis(n_components = factors, rotation=\"varimax\")),\n",
    "]  \n",
    "\n",
    "#  Let's prepare some plots on one canvas (subplots)\n",
    "fig, axes = plt.subplots(ncols=len(fas), figsize=(5, 4))\n",
    "\n",
    "'''\n",
    "And loop over the variants of our analysis `fas`, zipped with the \n",
    "plot axes `axes`\n",
    "'''\n",
    "for ax, (title, fa) in zip(axes, fas):\n",
    "    #  Fit the model to the standardized food data\n",
    "    fa = fa.fit(X)\n",
    "\n",
    "    #  and transpose the component (loading) matrix\n",
    "    factor_matrix = fa.components_.T\n",
    "\n",
    "    #  Plot the data as a heat map\n",
    "    im = ax.imshow(factor_matrix, cmap=\"RdBu_r\", vmax=1, vmin=-1)\n",
    "\n",
    "    #  and add the corresponding value to the center of each cell\n",
    "    for (i,j), z in np.ndenumerate(factor_matrix):\n",
    "        ax.text(j, i, str(z.round(2)), ha=\"center\", va=\"center\")\n",
    "\n",
    "    #  Tell matplotlib about the metadata of the plot\n",
    "    ax.set_yticks(np.arange(len(food.columns)))\n",
    "    if ax.get_subplotspec().is_first_col():\n",
    "        ax.set_yticklabels(food.columns)\n",
    "    else:\n",
    "        ax.set_yticklabels([])\n",
    "    ax.set_title(title)\n",
    "    ax.set_xticks([0, 1])\n",
    "    ax.set_xticklabels([\"Factor 1\", \"Factor 2\"])\n",
    "\n",
    "    #  and squeeze the axes tight, to save space\n",
    "    plt.tight_layout()\n",
    "    \n",
    "#  and add a colorbar\n",
    "cb = fig.colorbar(im, ax=axes, location='right', label=\"loadings\")\n",
    "\n",
    "#  show us the plot\n",
    "plt.show()"
   ]
  },
  {
   "cell_type": "markdown",
   "id": "8654a9fa",
   "metadata": {},
   "source": [
    "#### Interpretation ☝️ \n",
    "\n",
    "**Factor Analysis** works by forming linear combinations of original variables to capture the shared variance among them — essentially identifying underlying latent factors. This process reduces the number of dimensions in the dataset while retaining most of the information (variance).\n",
    "\n",
    "Factor Analysis often involves rotation to make the results more interpretable. The goal of rotation is to simplify the factor structure so that each variable loads strongly on one factor and weakly on others, making it easier to assign meaningful labels to the factors. \n",
    "\n",
    "As a result, it enables us to condense a large set of observed variables into fewer composite factors that represent broader, hidden constructs. This simplification makes it easier to understand and analyze complex datasets.\n",
    "\n",
    "**The heatmap**<br>\n",
    "- Loadings ranging from -1 to 1. The loadings indicate the contribution of each orginal variable to the factor. \n",
    "- Loadings close to +1 or -1 indicate strong relationships\n",
    "- Loadings close to 0 indicate neglishible or weak relationships\n",
    "- Color coding: red means positive loadings while blue are negative loadings\n",
    "- The magnitude of the loading indicates the strength of the relationship, while the sign indicates its direction\n",
    "\n",
    "**\"No rotation\" and \"Varimax rotation\"**<br>\n",
    "Factor analysis often involves rotation to make the results more interpretable. No rotation leads to loadings harder to interpret because variables might have moderate loadings on multiple factors. Let's quickly move to the varimax rotation.\n",
    "\n",
    "Varimax rotation maximizes the variance of loadings within each factor, making the structure clearer by pushing loadings toward either +1 or -1 and minimizing intermediate values.\n",
    "\n",
    "**Observations**\n",
    "- Varimax's Factor 1: Oil and Density seem to have an opposite loading on the same factor, meaning they are both important contributors but in opposing directions. \n",
    "- Varimax's Factor 2: Factor 2 appears to reflect textural properties , where higher values correspond to greater fracture resistance , while lower values are associated with increased crispiness and hardness.\n",
    "\n",
    "\n",
    "<br>**<div class=\"alert alert-block alert-info\">Important observation:** <br>Factor loadings don't indicate direct correlation between ariables, but how each variable relates to an underlying latent factor\n",
    "</div>"
   ]
  },
  {
   "cell_type": "markdown",
   "id": "8956d2ac",
   "metadata": {},
   "source": [
    "## Uniqueness\n",
    "\n",
    "Uniqueness is literally the opposite of the common factors: The proportion of a variable’s variance that is NOT explained by the common factors. So basically we have:\n",
    "- Uniqueness = 1 − Communality .\n",
    "- Communality is the proportion of a variable’s variance that is explained by the common factors.\n",
    "- Therefore, Uniqueness is the remaining variance that is not explained by these factors.ç\n",
    "\n",
    "**Ok all good till here, but how do we interpret uniquness?**\n",
    "- A low uniqueness value indicates that most of the variable’s variance is explained by the common factors, suggesting the variable fits well into the factor structure.\n",
    "- A high uniqueness value indicates that much of the variable’s variance is not explained by the common factors, suggesting the variable may not fit well with the other variables or might have unique characteristics."
   ]
  },
  {
   "cell_type": "code",
   "execution_count": 38,
   "id": "c3958b0b",
   "metadata": {},
   "outputs": [
    {
     "data": {
      "text/plain": [
       "<Axes: ylabel='Uniqueness'>"
      ]
     },
     "execution_count": 38,
     "metadata": {},
     "output_type": "execute_result"
    },
    {
     "data": {
      "image/png": "[encoded data removed]",
      "text/plain": [
       "<Figure size 640x480 with 1 Axes>"
      ]
     },
     "metadata": {},
     "output_type": "display_data"
    }
   ],
   "source": [
    "fa = FactorAnalysis(n_components = 2, rotation=\"varimax\")\n",
    "fa.fit(X)\n",
    "uniqueness = pd.Series(fa.noise_variance_, index=food.columns)\n",
    "uniqueness.plot(\n",
    "    kind=\"bar\",\n",
    "    ylabel=\"Uniqueness\"\n",
    ")"
   ]
  },
  {
   "cell_type": "markdown",
   "id": "2f512379",
   "metadata": {},
   "source": [
    "#### Interpretation ☝️ \n",
    "\n",
    "- Oil has a high uniqueness (0.33). This means about 33% of Oliv's variance is NOT explained by the common factors. The same we could say about Hardness and we can apply the same logic to the rest of variables with its relative %s.\n",
    "- Crispy has a very low uniqueness, meaning 93% of its variance its explanied by the common factors.\n",
    "- This suggests that Crispy fits well into the factor structure and is strongly related to the underlying latent constructs captured by the analysis. At the same time it loads strongly on both Factors of the Varimax heatmap, so it's a reliable contributor.\n",
    "- Hardness is strongly associated with Factor 2, although nearly 40% of its variance remains unexplained by the common factors\n",
    "\n",
    "<br>**<div class=\"alert alert-block alert-info\">Important observation:** <br>High uniqueness does not mean we should ignore the Factor Analysis results seen in the heatmap. However, it does suggest that some variables have a significant portion of variance not explained by the common factors , which means the overall factor model might explain less of the total variance. Therefore, interpretations and conclusions should reflect this uncertainty. \n",
    "</div>"
   ]
  },
  {
   "cell_type": "markdown",
   "id": "10f42b5a",
   "metadata": {},
   "source": [
    "## Communality\n",
    "\n",
    "Communality is the proportion of a variable’s variance that is explained by the common factors. So basically we have:\n",
    "- Communality = 1 − Uniqueness.\n",
    "- The proportion of a variable's variance that is explained by the common factor\n",
    "- Therefore, Uniqueness is the remaining variance that IS explained by these factors.\n",
    "\n",
    "**Example**<br>\n",
    "- If communality = 0.8 , then 80% of the variable’s variance is shared with other variables through the common factors.\n",
    "- If uniqueness = 0.2 , then 20% of the variance is unique or unexplained."
   ]
  },
  {
   "cell_type": "code",
   "execution_count": 39,
   "id": "577a63e8",
   "metadata": {},
   "outputs": [
    {
     "data": {
      "text/plain": [
       "<Axes: ylabel='communality'>"
      ]
     },
     "execution_count": 39,
     "metadata": {},
     "output_type": "execute_result"
    },
    {
     "data": {
      "image/png": "[encoded data removed]",
      "text/plain": [
       "<Figure size 640x480 with 1 Axes>"
      ]
     },
     "metadata": {},
     "output_type": "display_data"
    }
   ],
   "source": [
    "# Communality\n",
    "communality = pd.Series(np.square(fa.components_.T).sum(axis=1), index=food.columns)\n",
    "communality.plot(\n",
    "    kind=\"bar\",\n",
    "    ylabel=\"communality\"\n",
    ")"
   ]
  },
  {
   "cell_type": "markdown",
   "id": "d951194b",
   "metadata": {},
   "source": [
    "#### Interpretation ☝️ \n",
    "\n",
    "- Communality values are all pretty high (all above 0.6), which says that ~60%s variance is explained by the Common Factors.\n",
    "- Based on that, *Crispy communality factor is ~0.90, which implies that 90% of Crispy’s variance is explained by the common factors. \n",
    "- This indicates that the variables fit very well into the factor structure and is strongly related to the underlying latent constructs captured by the analysis. Which means we are in the good direction.\n",
    "- Variables with lower communality (eg: *hardness*) suggest they might have unique characteristics or measurement issues that aren’t captured by the current factor model. We should interpret its role in the factor structure with caution and consider whether additional factors or alternative modeling approaches might better explain its variance.\n",
    "\n",
    "All in all:\n",
    "- Crispy and Density have high communality, indicating strong alignment with the latent factors.\n",
    "- Fracture and Oil have moderate communality, suggesting reasonable but not perfect alignment.\n",
    "- Hardness has low communality, indicating that much of its variance is not captured by the common factors."
   ]
  },
  {
   "cell_type": "markdown",
   "id": "bae6364f",
   "metadata": {},
   "source": [
    "## But wait... there is more!\n",
    "\n",
    "In a previous exercise, I explored Principal Component Analysis (PCA) using a different dataset — the Wine dataset — for learning purposes.\n",
    "\n",
    "[Check out the PCA notebook here](https://github.com/jrbayguade/DataTreatment_DimensionalityReduction_PCA/blob/PCA_Class/T7_1_PCA_Principal_Component_Analysis.ipynb)\n",
    "\n",
    "It would be both insightful and constructive to apply the Factor Analysis process to the same dataset, no? So let's get through it! (a bit more quickly now)"
   ]
  },
  {
   "cell_type": "code",
   "execution_count": 40,
   "id": "daf631d1",
   "metadata": {},
   "outputs": [
    {
     "data": {
      "application/vnd.microsoft.datawrangler.viewer.v0+json": {
       "columns": [
        {
         "name": "index",
         "rawType": "int64",
         "type": "integer"
        },
        {
         "name": "Wine",
         "rawType": "int64",
         "type": "integer"
        },
        {
         "name": "Alcohol",
         "rawType": "float64",
         "type": "float"
        },
        {
         "name": "Malic.acid",
         "rawType": "float64",
         "type": "float"
        },
        {
         "name": "Ash",
         "rawType": "float64",
         "type": "float"
        },
        {
         "name": "Acl",
         "rawType": "float64",
         "type": "float"
        },
        {
         "name": "Mg",
         "rawType": "int64",
         "type": "integer"
        },
        {
         "name": "Phenols",
         "rawType": "float64",
         "type": "float"
        },
        {
         "name": "Flavanoids",
         "rawType": "float64",
         "type": "float"
        },
        {
         "name": "Nonflavanoid.phenols",
         "rawType": "float64",
         "type": "float"
        },
        {
         "name": "Proanth",
         "rawType": "float64",
         "type": "float"
        },
        {
         "name": "Color.int",
         "rawType": "float64",
         "type": "float"
        },
        {
         "name": "Hue",
         "rawType": "float64",
         "type": "float"
        },
        {
         "name": "OD",
         "rawType": "float64",
         "type": "float"
        },
        {
         "name": "Proline",
         "rawType": "int64",
         "type": "integer"
        }
       ],
       "conversionMethod": "pd.DataFrame",
       "ref": "997d54c2-4cfd-478e-b6ca-69dadb5b0965",
       "rows": [
        [
         "114",
         "2",
         "12.08",
         "1.39",
         "2.5",
         "22.5",
         "84",
         "2.56",
         "2.29",
         "0.43",
         "1.04",
         "2.9",
         "0.93",
         "3.19",
         "385"
        ],
        [
         "83",
         "2",
         "13.05",
         "3.86",
         "2.32",
         "22.5",
         "85",
         "1.65",
         "1.59",
         "0.61",
         "1.62",
         "4.8",
         "0.84",
         "2.01",
         "515"
        ],
        [
         "20",
         "1",
         "14.06",
         "1.63",
         "2.28",
         "16.0",
         "126",
         "3.0",
         "3.17",
         "0.24",
         "2.1",
         "5.65",
         "1.09",
         "3.71",
         "780"
        ],
        [
         "3",
         "1",
         "14.37",
         "1.95",
         "2.5",
         "16.8",
         "113",
         "3.85",
         "3.49",
         "0.24",
         "2.18",
         "7.8",
         "0.86",
         "3.45",
         "1480"
        ],
        [
         "176",
         "3",
         "13.17",
         "2.59",
         "2.37",
         "20.0",
         "120",
         "1.65",
         "0.68",
         "0.53",
         "1.46",
         "9.3",
         "0.6",
         "1.62",
         "840"
        ],
        [
         "165",
         "3",
         "13.73",
         "4.36",
         "2.26",
         "22.5",
         "88",
         "1.28",
         "0.47",
         "0.52",
         "1.15",
         "6.62",
         "0.78",
         "1.75",
         "520"
        ],
        [
         "30",
         "1",
         "13.73",
         "1.5",
         "2.7",
         "22.5",
         "101",
         "3.0",
         "3.25",
         "0.29",
         "2.38",
         "5.7",
         "1.19",
         "2.71",
         "1285"
        ],
        [
         "51",
         "1",
         "13.83",
         "1.65",
         "2.6",
         "17.2",
         "94",
         "2.45",
         "2.99",
         "0.22",
         "2.29",
         "5.6",
         "1.24",
         "3.37",
         "1265"
        ],
        [
         "12",
         "1",
         "13.75",
         "1.73",
         "2.41",
         "16.0",
         "89",
         "2.6",
         "2.76",
         "0.29",
         "1.81",
         "5.6",
         "1.15",
         "2.9",
         "1320"
        ],
        [
         "111",
         "2",
         "12.52",
         "2.43",
         "2.17",
         "21.0",
         "88",
         "2.55",
         "2.27",
         "0.26",
         "1.22",
         "2.0",
         "0.9",
         "2.78",
         "325"
        ],
        [
         "150",
         "3",
         "13.5",
         "3.12",
         "2.62",
         "24.0",
         "123",
         "1.4",
         "1.57",
         "0.22",
         "1.25",
         "8.6",
         "0.59",
         "1.3",
         "500"
        ],
        [
         "160",
         "3",
         "12.36",
         "3.83",
         "2.38",
         "21.0",
         "88",
         "2.3",
         "0.92",
         "0.5",
         "1.04",
         "7.65",
         "0.56",
         "1.58",
         "520"
        ],
        [
         "15",
         "1",
         "13.63",
         "1.81",
         "2.7",
         "17.2",
         "112",
         "2.85",
         "2.91",
         "0.3",
         "1.46",
         "7.3",
         "1.28",
         "2.88",
         "1310"
        ],
        [
         "142",
         "3",
         "13.52",
         "3.17",
         "2.72",
         "23.5",
         "97",
         "1.55",
         "0.52",
         "0.5",
         "0.55",
         "4.35",
         "0.89",
         "2.06",
         "520"
        ],
        [
         "53",
         "1",
         "13.77",
         "1.9",
         "2.68",
         "17.1",
         "115",
         "3.0",
         "2.79",
         "0.39",
         "1.68",
         "6.3",
         "1.13",
         "2.93",
         "1375"
        ]
       ],
       "shape": {
        "columns": 14,
        "rows": 15
       }
      },
      "text/html": [
       "<div>\n",
       "<style scoped>\n",
       "    .dataframe tbody tr th:only-of-type {\n",
       "        vertical-align: middle;\n",
       "    }\n",
       "\n",
       "    .dataframe tbody tr th {\n",
       "        vertical-align: top;\n",
       "    }\n",
       "\n",
       "    .dataframe thead th {\n",
       "        text-align: right;\n",
       "    }\n",
       "</style>\n",
       "<table border=\"1\" class=\"dataframe\">\n",
       "  <thead>\n",
       "    <tr style=\"text-align: right;\">\n",
       "      <th></th>\n",
       "      <th>Wine</th>\n",
       "      <th>Alcohol</th>\n",
       "      <th>Malic.acid</th>\n",
       "      <th>Ash</th>\n",
       "      <th>Acl</th>\n",
       "      <th>Mg</th>\n",
       "      <th>Phenols</th>\n",
       "      <th>Flavanoids</th>\n",
       "      <th>Nonflavanoid.phenols</th>\n",
       "      <th>Proanth</th>\n",
       "      <th>Color.int</th>\n",
       "      <th>Hue</th>\n",
       "      <th>OD</th>\n",
       "      <th>Proline</th>\n",
       "    </tr>\n",
       "  </thead>\n",
       "  <tbody>\n",
       "    <tr>\n",
       "      <th>114</th>\n",
       "      <td>2</td>\n",
       "      <td>12.08</td>\n",
       "      <td>1.39</td>\n",
       "      <td>2.50</td>\n",
       "      <td>22.5</td>\n",
       "      <td>84</td>\n",
       "      <td>2.56</td>\n",
       "      <td>2.29</td>\n",
       "      <td>0.43</td>\n",
       "      <td>1.04</td>\n",
       "      <td>2.90</td>\n",
       "      <td>0.93</td>\n",
       "      <td>3.19</td>\n",
       "      <td>385</td>\n",
       "    </tr>\n",
       "    <tr>\n",
       "      <th>83</th>\n",
       "      <td>2</td>\n",
       "      <td>13.05</td>\n",
       "      <td>3.86</td>\n",
       "      <td>2.32</td>\n",
       "      <td>22.5</td>\n",
       "      <td>85</td>\n",
       "      <td>1.65</td>\n",
       "      <td>1.59</td>\n",
       "      <td>0.61</td>\n",
       "      <td>1.62</td>\n",
       "      <td>4.80</td>\n",
       "      <td>0.84</td>\n",
       "      <td>2.01</td>\n",
       "      <td>515</td>\n",
       "    </tr>\n",
       "    <tr>\n",
       "      <th>20</th>\n",
       "      <td>1</td>\n",
       "      <td>14.06</td>\n",
       "      <td>1.63</td>\n",
       "      <td>2.28</td>\n",
       "      <td>16.0</td>\n",
       "      <td>126</td>\n",
       "      <td>3.00</td>\n",
       "      <td>3.17</td>\n",
       "      <td>0.24</td>\n",
       "      <td>2.10</td>\n",
       "      <td>5.65</td>\n",
       "      <td>1.09</td>\n",
       "      <td>3.71</td>\n",
       "      <td>780</td>\n",
       "    </tr>\n",
       "    <tr>\n",
       "      <th>3</th>\n",
       "      <td>1</td>\n",
       "      <td>14.37</td>\n",
       "      <td>1.95</td>\n",
       "      <td>2.50</td>\n",
       "      <td>16.8</td>\n",
       "      <td>113</td>\n",
       "      <td>3.85</td>\n",
       "      <td>3.49</td>\n",
       "      <td>0.24</td>\n",
       "      <td>2.18</td>\n",
       "      <td>7.80</td>\n",
       "      <td>0.86</td>\n",
       "      <td>3.45</td>\n",
       "      <td>1480</td>\n",
       "    </tr>\n",
       "    <tr>\n",
       "      <th>176</th>\n",
       "      <td>3</td>\n",
       "      <td>13.17</td>\n",
       "      <td>2.59</td>\n",
       "      <td>2.37</td>\n",
       "      <td>20.0</td>\n",
       "      <td>120</td>\n",
       "      <td>1.65</td>\n",
       "      <td>0.68</td>\n",
       "      <td>0.53</td>\n",
       "      <td>1.46</td>\n",
       "      <td>9.30</td>\n",
       "      <td>0.60</td>\n",
       "      <td>1.62</td>\n",
       "      <td>840</td>\n",
       "    </tr>\n",
       "    <tr>\n",
       "      <th>165</th>\n",
       "      <td>3</td>\n",
       "      <td>13.73</td>\n",
       "      <td>4.36</td>\n",
       "      <td>2.26</td>\n",
       "      <td>22.5</td>\n",
       "      <td>88</td>\n",
       "      <td>1.28</td>\n",
       "      <td>0.47</td>\n",
       "      <td>0.52</td>\n",
       "      <td>1.15</td>\n",
       "      <td>6.62</td>\n",
       "      <td>0.78</td>\n",
       "      <td>1.75</td>\n",
       "      <td>520</td>\n",
       "    </tr>\n",
       "    <tr>\n",
       "      <th>30</th>\n",
       "      <td>1</td>\n",
       "      <td>13.73</td>\n",
       "      <td>1.50</td>\n",
       "      <td>2.70</td>\n",
       "      <td>22.5</td>\n",
       "      <td>101</td>\n",
       "      <td>3.00</td>\n",
       "      <td>3.25</td>\n",
       "      <td>0.29</td>\n",
       "      <td>2.38</td>\n",
       "      <td>5.70</td>\n",
       "      <td>1.19</td>\n",
       "      <td>2.71</td>\n",
       "      <td>1285</td>\n",
       "    </tr>\n",
       "    <tr>\n",
       "      <th>51</th>\n",
       "      <td>1</td>\n",
       "      <td>13.83</td>\n",
       "      <td>1.65</td>\n",
       "      <td>2.60</td>\n",
       "      <td>17.2</td>\n",
       "      <td>94</td>\n",
       "      <td>2.45</td>\n",
       "      <td>2.99</td>\n",
       "      <td>0.22</td>\n",
       "      <td>2.29</td>\n",
       "      <td>5.60</td>\n",
       "      <td>1.24</td>\n",
       "      <td>3.37</td>\n",
       "      <td>1265</td>\n",
       "    </tr>\n",
       "    <tr>\n",
       "      <th>12</th>\n",
       "      <td>1</td>\n",
       "      <td>13.75</td>\n",
       "      <td>1.73</td>\n",
       "      <td>2.41</td>\n",
       "      <td>16.0</td>\n",
       "      <td>89</td>\n",
       "      <td>2.60</td>\n",
       "      <td>2.76</td>\n",
       "      <td>0.29</td>\n",
       "      <td>1.81</td>\n",
       "      <td>5.60</td>\n",
       "      <td>1.15</td>\n",
       "      <td>2.90</td>\n",
       "      <td>1320</td>\n",
       "    </tr>\n",
       "    <tr>\n",
       "      <th>111</th>\n",
       "      <td>2</td>\n",
       "      <td>12.52</td>\n",
       "      <td>2.43</td>\n",
       "      <td>2.17</td>\n",
       "      <td>21.0</td>\n",
       "      <td>88</td>\n",
       "      <td>2.55</td>\n",
       "      <td>2.27</td>\n",
       "      <td>0.26</td>\n",
       "      <td>1.22</td>\n",
       "      <td>2.00</td>\n",
       "      <td>0.90</td>\n",
       "      <td>2.78</td>\n",
       "      <td>325</td>\n",
       "    </tr>\n",
       "    <tr>\n",
       "      <th>150</th>\n",
       "      <td>3</td>\n",
       "      <td>13.50</td>\n",
       "      <td>3.12</td>\n",
       "      <td>2.62</td>\n",
       "      <td>24.0</td>\n",
       "      <td>123</td>\n",
       "      <td>1.40</td>\n",
       "      <td>1.57</td>\n",
       "      <td>0.22</td>\n",
       "      <td>1.25</td>\n",
       "      <td>8.60</td>\n",
       "      <td>0.59</td>\n",
       "      <td>1.30</td>\n",
       "      <td>500</td>\n",
       "    </tr>\n",
       "    <tr>\n",
       "      <th>160</th>\n",
       "      <td>3</td>\n",
       "      <td>12.36</td>\n",
       "      <td>3.83</td>\n",
       "      <td>2.38</td>\n",
       "      <td>21.0</td>\n",
       "      <td>88</td>\n",
       "      <td>2.30</td>\n",
       "      <td>0.92</td>\n",
       "      <td>0.50</td>\n",
       "      <td>1.04</td>\n",
       "      <td>7.65</td>\n",
       "      <td>0.56</td>\n",
       "      <td>1.58</td>\n",
       "      <td>520</td>\n",
       "    </tr>\n",
       "    <tr>\n",
       "      <th>15</th>\n",
       "      <td>1</td>\n",
       "      <td>13.63</td>\n",
       "      <td>1.81</td>\n",
       "      <td>2.70</td>\n",
       "      <td>17.2</td>\n",
       "      <td>112</td>\n",
       "      <td>2.85</td>\n",
       "      <td>2.91</td>\n",
       "      <td>0.30</td>\n",
       "      <td>1.46</td>\n",
       "      <td>7.30</td>\n",
       "      <td>1.28</td>\n",
       "      <td>2.88</td>\n",
       "      <td>1310</td>\n",
       "    </tr>\n",
       "    <tr>\n",
       "      <th>142</th>\n",
       "      <td>3</td>\n",
       "      <td>13.52</td>\n",
       "      <td>3.17</td>\n",
       "      <td>2.72</td>\n",
       "      <td>23.5</td>\n",
       "      <td>97</td>\n",
       "      <td>1.55</td>\n",
       "      <td>0.52</td>\n",
       "      <td>0.50</td>\n",
       "      <td>0.55</td>\n",
       "      <td>4.35</td>\n",
       "      <td>0.89</td>\n",
       "      <td>2.06</td>\n",
       "      <td>520</td>\n",
       "    </tr>\n",
       "    <tr>\n",
       "      <th>53</th>\n",
       "      <td>1</td>\n",
       "      <td>13.77</td>\n",
       "      <td>1.90</td>\n",
       "      <td>2.68</td>\n",
       "      <td>17.1</td>\n",
       "      <td>115</td>\n",
       "      <td>3.00</td>\n",
       "      <td>2.79</td>\n",
       "      <td>0.39</td>\n",
       "      <td>1.68</td>\n",
       "      <td>6.30</td>\n",
       "      <td>1.13</td>\n",
       "      <td>2.93</td>\n",
       "      <td>1375</td>\n",
       "    </tr>\n",
       "  </tbody>\n",
       "</table>\n",
       "</div>"
      ],
      "text/plain": [
       "     Wine  Alcohol  Malic.acid   Ash   Acl   Mg  Phenols  Flavanoids  \\\n",
       "114     2    12.08        1.39  2.50  22.5   84     2.56        2.29   \n",
       "83      2    13.05        3.86  2.32  22.5   85     1.65        1.59   \n",
       "20      1    14.06        1.63  2.28  16.0  126     3.00        3.17   \n",
       "3       1    14.37        1.95  2.50  16.8  113     3.85        3.49   \n",
       "176     3    13.17        2.59  2.37  20.0  120     1.65        0.68   \n",
       "165     3    13.73        4.36  2.26  22.5   88     1.28        0.47   \n",
       "30      1    13.73        1.50  2.70  22.5  101     3.00        3.25   \n",
       "51      1    13.83        1.65  2.60  17.2   94     2.45        2.99   \n",
       "12      1    13.75        1.73  2.41  16.0   89     2.60        2.76   \n",
       "111     2    12.52        2.43  2.17  21.0   88     2.55        2.27   \n",
       "150     3    13.50        3.12  2.62  24.0  123     1.40        1.57   \n",
       "160     3    12.36        3.83  2.38  21.0   88     2.30        0.92   \n",
       "15      1    13.63        1.81  2.70  17.2  112     2.85        2.91   \n",
       "142     3    13.52        3.17  2.72  23.5   97     1.55        0.52   \n",
       "53      1    13.77        1.90  2.68  17.1  115     3.00        2.79   \n",
       "\n",
       "     Nonflavanoid.phenols  Proanth  Color.int   Hue    OD  Proline  \n",
       "114                  0.43     1.04       2.90  0.93  3.19      385  \n",
       "83                   0.61     1.62       4.80  0.84  2.01      515  \n",
       "20                   0.24     2.10       5.65  1.09  3.71      780  \n",
       "3                    0.24     2.18       7.80  0.86  3.45     1480  \n",
       "176                  0.53     1.46       9.30  0.60  1.62      840  \n",
       "165                  0.52     1.15       6.62  0.78  1.75      520  \n",
       "30                   0.29     2.38       5.70  1.19  2.71     1285  \n",
       "51                   0.22     2.29       5.60  1.24  3.37     1265  \n",
       "12                   0.29     1.81       5.60  1.15  2.90     1320  \n",
       "111                  0.26     1.22       2.00  0.90  2.78      325  \n",
       "150                  0.22     1.25       8.60  0.59  1.30      500  \n",
       "160                  0.50     1.04       7.65  0.56  1.58      520  \n",
       "15                   0.30     1.46       7.30  1.28  2.88     1310  \n",
       "142                  0.50     0.55       4.35  0.89  2.06      520  \n",
       "53                   0.39     1.68       6.30  1.13  2.93     1375  "
      ]
     },
     "execution_count": 40,
     "metadata": {},
     "output_type": "execute_result"
    }
   ],
   "source": [
    "# Import required libraries\n",
    "import pandas as pd\n",
    "import matplotlib.pyplot as plt\n",
    "import numpy as np\n",
    "\n",
    "from sklearn.decomposition import FactorAnalysis # Factor Analysis sklearn's class\n",
    "from sklearn.preprocessing import StandardScaler # We will need to standarize quantitative variables\n",
    "\n",
    "wine = pd.read_csv('https://gist.githubusercontent.com/tijptjik/9408623/raw/b237fa5848349a14a14e5d4107dc7897c21951f5/wine.csv')\n",
    "wine.sample(15)"
   ]
  },
  {
   "cell_type": "code",
   "execution_count": null,
   "id": "b93aa161",
   "metadata": {},
   "outputs": [
    {
     "data": {
      "image/png": "[encoded data removed]",
      "text/plain": [
       "<Figure size 1500x800 with 3 Axes>"
      ]
     },
     "metadata": {},
     "output_type": "display_data"
    }
   ],
   "source": [
    "reduced_wine = wine.drop('Wine', axis=1)  # IMPORTANT! drop the categorical column\n",
    "X = StandardScaler().fit_transform(reduced_wine)  # Standardize the data\n",
    "factors = 2\n",
    "#  a list of 2 tuples containing titles for and instances of or class\n",
    "fas = [\n",
    "    (\"FA no rotation\", FactorAnalysis(n_components = factors)),\n",
    "    (\"FA varimax\", FactorAnalysis(n_components = factors, rotation=\"varimax\")),\n",
    "]  \n",
    "\n",
    "#  Let's prepare some plots on one canvas (subplots)\n",
    "fig, axes = plt.subplots(ncols=len(fas), figsize=(15, 8))\n",
    "\n",
    "'''\n",
    "And loop over the variants of our analysis `fas`, zipped with the \n",
    "plot axes `axes`\n",
    "'''\n",
    "for ax, (title, fa) in zip(axes, fas):\n",
    "    #  Fit the model to the standardized wine data\n",
    "    fa = fa.fit(X)\n",
    "\n",
    "    #  and transpose the component (loading) matrix\n",
    "    factor_matrix = fa.components_.T\n",
    "\n",
    "    #  Plot the data as a heat map\n",
    "    im = ax.imshow(factor_matrix, cmap=\"RdBu_r\", vmax=1, vmin=-1)\n",
    "\n",
    "    #  and add the corresponding value to the center of each cell\n",
    "    for (i,j), z in np.ndenumerate(factor_matrix):\n",
    "        ax.text(j, i, str(z.round(2)), ha=\"center\", va=\"center\", fontsize=8)\n",
    "\n",
    "    #  Tell matplotlib about the metadata of the plot\n",
    "    ax.set_yticks(np.arange(len(reduced_wine.columns)))\n",
    "    if ax.get_subplotspec().is_first_col():\n",
    "        ax.set_yticklabels(reduced_wine.columns, fontsize=8)\n",
    "    else:\n",
    "        ax.set_yticklabels([])\n",
    "    ax.set_title(title, fontsize=8)\n",
    "    ax.set_xticks([0, 1])\n",
    "    ax.set_xticklabels([\"Factor 1\", \"Factor 2\"], fontsize=7)\n",
    "    \n",
    "    #  and squeeze the axes tight, to save space\n",
    "    plt.tight_layout()\n",
    "    \n",
    "#  and add a colorbar\n",
    "cb = fig.colorbar(im, ax=axes, location='right', label=\"loadings\")\n",
    "\n",
    "#  show us the plot\n",
    "plt.show()"
   ]
  },
  {
   "cell_type": "code",
   "execution_count": 44,
   "id": "50924835",
   "metadata": {},
   "outputs": [
    {
     "data": {
      "text/plain": [
       "<Axes: ylabel='Uniqueness'>"
      ]
     },
     "execution_count": 44,
     "metadata": {},
     "output_type": "execute_result"
    },
    {
     "data": {
      "image/png": "[encoded data removed]",
      "text/plain": [
       "<Figure size 640x480 with 1 Axes>"
      ]
     },
     "metadata": {},
     "output_type": "display_data"
    }
   ],
   "source": [
    "fa = FactorAnalysis(n_components = 2, rotation=\"varimax\")\n",
    "fa.fit(X)\n",
    "uniqueness = pd.Series(fa.noise_variance_, index=reduced_wine.columns)\n",
    "uniqueness.plot(\n",
    "    kind=\"bar\",\n",
    "    ylabel=\"Uniqueness\"\n",
    ")"
   ]
  },
  {
   "cell_type": "code",
   "execution_count": 45,
   "id": "37f1ae11",
   "metadata": {},
   "outputs": [
    {
     "data": {
      "text/plain": [
       "<Axes: ylabel='communality'>"
      ]
     },
     "execution_count": 45,
     "metadata": {},
     "output_type": "execute_result"
    },
    {
     "data": {
      "image/png": "[encoded data removed]",
      "text/plain": [
       "<Figure size 640x480 with 1 Axes>"
      ]
     },
     "metadata": {},
     "output_type": "display_data"
    }
   ],
   "source": [
    "# Communality\n",
    "communality = pd.Series(np.square(fa.components_.T).sum(axis=1), index=reduced_wine.columns)\n",
    "communality.plot(\n",
    "    kind=\"bar\",\n",
    "    ylabel=\"communality\"\n",
    ")"
   ]
  }
 ],
 "metadata": {
  "kernelspec": {
   "display_name": "Python 3",
   "language": "python",
   "name": "python3"
  },
  "language_info": {
   "codemirror_mode": {
    "name": "ipython",
    "version": 3
   },
   "file_extension": ".py",
   "mimetype": "text/x-python",
   "name": "python",
   "nbconvert_exporter": "python",
   "pygments_lexer": "ipython3",
   "version": "3.13.1"
  }
 },
 "nbformat": 4,
 "nbformat_minor": 5
}
