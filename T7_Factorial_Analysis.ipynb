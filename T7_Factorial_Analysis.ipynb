{
 "cells": [
  {
   "cell_type": "markdown",
   "id": "275cd46b",
   "metadata": {},
   "source": [
    "# **Practical implementation of the Factor Analysis for dimensionality reduction in Python**\n",
    "Factor Analysis (FA) is a powerful statistical method used for dimensionality reduction. It helps uncover latent variables, or \"factors,\" that explain the correlations among observed variables. In this exercise, I'll walk through a practical implementation of Factor Analysis using Python, leveraging libraries such as scikit-learn and pandas, and apply it to a real-world dataset to demonstrate how it can simplify complex data while preserving meaningful structure.\n",
    "\n",
    "Sources:<br>\n",
    "[A simple example of Factor Analysis in Python (Freie Universität, Berlin)](https://www.geo.fu-berlin.de/en/v/soga-py/Advanced-statistics/Multivariate-Approaches/Factor-Analysis/A-Simple-Example-of-Factor-Analysis-in-Python/index.html)"
   ]
  },
  {
   "cell_type": "code",
   "execution_count": 2,
   "id": "966dcd3c",
   "metadata": {},
   "outputs": [],
   "source": [
    "# Import required libraries\n",
    "import pandas as pd\n",
    "import matplotlib.pyplot as plt\n",
    "import numpy as np\n",
    "\n",
    "from sklearn.decomposition import FactorAnalysis # Factor Analysis sklearn's class\n",
    "from sklearn.preprocessing import StandardScaler # We will need to standarize quantitative variables"
   ]
  },
  {
   "cell_type": "code",
   "execution_count": null,
   "id": "87f70619",
   "metadata": {},
   "outputs": [
    {
     "data": {
      "application/vnd.microsoft.datawrangler.viewer.v0+json": {
       "columns": [
        {
         "name": "index",
         "rawType": "object",
         "type": "string"
        },
        {
         "name": "Oil",
         "rawType": "float64",
         "type": "float"
        },
        {
         "name": "Density",
         "rawType": "int64",
         "type": "integer"
        },
        {
         "name": "Crispy",
         "rawType": "int64",
         "type": "integer"
        },
        {
         "name": "Fracture",
         "rawType": "int64",
         "type": "integer"
        },
        {
         "name": "Hardness",
         "rawType": "int64",
         "type": "integer"
        }
       ],
       "conversionMethod": "pd.DataFrame",
       "ref": "4b7e3bf2-25c8-4706-bea0-a64c66eb56a3",
       "rows": [
        [
         "B110",
         "16.5",
         "2955",
         "10",
         "23",
         "97"
        ],
        [
         "B136",
         "17.7",
         "2660",
         "14",
         "9",
         "139"
        ],
        [
         "B171",
         "16.2",
         "2870",
         "12",
         "17",
         "143"
        ],
        [
         "B192",
         "16.7",
         "2920",
         "10",
         "31",
         "95"
        ],
        [
         "B225",
         "16.3",
         "2975",
         "11",
         "26",
         "143"
        ]
       ],
       "shape": {
        "columns": 5,
        "rows": 5
       }
      },
      "text/html": [
       "<div>\n",
       "<style scoped>\n",
       "    .dataframe tbody tr th:only-of-type {\n",
       "        vertical-align: middle;\n",
       "    }\n",
       "\n",
       "    .dataframe tbody tr th {\n",
       "        vertical-align: top;\n",
       "    }\n",
       "\n",
       "    .dataframe thead th {\n",
       "        text-align: right;\n",
       "    }\n",
       "</style>\n",
       "<table border=\"1\" class=\"dataframe\">\n",
       "  <thead>\n",
       "    <tr style=\"text-align: right;\">\n",
       "      <th></th>\n",
       "      <th>Oil</th>\n",
       "      <th>Density</th>\n",
       "      <th>Crispy</th>\n",
       "      <th>Fracture</th>\n",
       "      <th>Hardness</th>\n",
       "    </tr>\n",
       "  </thead>\n",
       "  <tbody>\n",
       "    <tr>\n",
       "      <th>B110</th>\n",
       "      <td>16.5</td>\n",
       "      <td>2955</td>\n",
       "      <td>10</td>\n",
       "      <td>23</td>\n",
       "      <td>97</td>\n",
       "    </tr>\n",
       "    <tr>\n",
       "      <th>B136</th>\n",
       "      <td>17.7</td>\n",
       "      <td>2660</td>\n",
       "      <td>14</td>\n",
       "      <td>9</td>\n",
       "      <td>139</td>\n",
       "    </tr>\n",
       "    <tr>\n",
       "      <th>B171</th>\n",
       "      <td>16.2</td>\n",
       "      <td>2870</td>\n",
       "      <td>12</td>\n",
       "      <td>17</td>\n",
       "      <td>143</td>\n",
       "    </tr>\n",
       "    <tr>\n",
       "      <th>B192</th>\n",
       "      <td>16.7</td>\n",
       "      <td>2920</td>\n",
       "      <td>10</td>\n",
       "      <td>31</td>\n",
       "      <td>95</td>\n",
       "    </tr>\n",
       "    <tr>\n",
       "      <th>B225</th>\n",
       "      <td>16.3</td>\n",
       "      <td>2975</td>\n",
       "      <td>11</td>\n",
       "      <td>26</td>\n",
       "      <td>143</td>\n",
       "    </tr>\n",
       "  </tbody>\n",
       "</table>\n",
       "</div>"
      ],
      "text/plain": [
       "       Oil  Density  Crispy  Fracture  Hardness\n",
       "B110  16.5     2955      10        23        97\n",
       "B136  17.7     2660      14         9       139\n",
       "B171  16.2     2870      12        17       143\n",
       "B192  16.7     2920      10        31        95\n",
       "B225  16.3     2975      11        26       143"
      ]
     },
     "execution_count": 4,
     "metadata": {},
     "output_type": "execute_result"
    }
   ],
   "source": [
    "food = pd.read_csv(\"https://userpage.fu-berlin.de/soga/300/30100_data_sets/food-texture.csv\", index_col=0)\n",
    "food.head()\n",
    "\n",
    "# Dataset source:\n",
    "# https://openmv.net/info/food-texture"
   ]
  },
  {
   "cell_type": "markdown",
   "id": "d2ac4bcc",
   "metadata": {},
   "source": [
    "One tricky parameter of the FactorAnalysis class is getting right the number of components (factors)\n",
    "\n",
    "```Python\n",
    "FactorAnalysis(n_components = <factors>)\n",
    "```\n",
    "\n",
    "You can either make an educated guess if you know the data well, or you can just peform a [principal component analysis (PCA)](https://github.com/jrbayguade/DataTreatment_DimensionalityReduction_PCA/blob/PCA_Class/T7_1_PCA_Principal_Component_Analysis.ipynb) first and get a good estimate of the number of factors.\n",
    "\n",
    "In this example we set the number of factors to be ```Python factors = 2```"
   ]
  },
  {
   "cell_type": "code",
   "execution_count": null,
   "id": "9b5a498a",
   "metadata": {},
   "outputs": [
    {
     "data": {
      "image/png": "[encoded data removed]",
      "text/plain": [
       "<Figure size 500x400 with 3 Axes>"
      ]
     },
     "metadata": {},
     "output_type": "display_data"
    }
   ],
   "source": [
    "X = StandardScaler().fit_transform(food)  # Standardize the data\n",
    "factors = 2\n",
    "#  a list of 2 tuples containing titles for and instances of or class\n",
    "fas = [\n",
    "    (\"FA no rotation\", FactorAnalysis(n_components = factors)),\n",
    "    (\"FA varimax\", FactorAnalysis(n_components = factors, rotation=\"varimax\")),\n",
    "]  \n",
    "\n",
    "#  Let's prepare some plots on one canvas (subplots)\n",
    "fig, axes = plt.subplots(ncols=len(fas), figsize=(5, 4))\n",
    "\n",
    "'''\n",
    "And loop over the variants of our analysis `fas`, zipped with the \n",
    "plot axes `axes`\n",
    "'''\n",
    "for ax, (title, fa) in zip(axes, fas):\n",
    "    #  Fit the model to the standardized food data\n",
    "    fa = fa.fit(X)\n",
    "\n",
    "    #  and transpose the component (loading) matrix\n",
    "    factor_matrix = fa.components_.T\n",
    "\n",
    "    #  Plot the data as a heat map\n",
    "    im = ax.imshow(factor_matrix, cmap=\"RdBu_r\", vmax=1, vmin=-1)\n",
    "\n",
    "    #  and add the corresponding value to the center of each cell\n",
    "    for (i,j), z in np.ndenumerate(factor_matrix):\n",
    "        ax.text(j, i, str(z.round(2)), ha=\"center\", va=\"center\")\n",
    "\n",
    "    #  Tell matplotlib about the metadata of the plot\n",
    "    ax.set_yticks(np.arange(len(food.columns)))\n",
    "    if ax.get_subplotspec().is_first_col():\n",
    "        ax.set_yticklabels(food.columns)\n",
    "    else:\n",
    "        ax.set_yticklabels([])\n",
    "    ax.set_title(title)\n",
    "    ax.set_xticks([0, 1])\n",
    "    ax.set_xticklabels([\"Factor 1\", \"Factor 2\"])\n",
    "\n",
    "    #  and squeeze the axes tight, to save space\n",
    "    plt.tight_layout()\n",
    "    \n",
    "#  and add a colorbar\n",
    "cb = fig.colorbar(im, ax=axes, location='right', label=\"loadings\")\n",
    "\n",
    "#  show us the plot\n",
    "plt.show()"
   ]
  },
  {
   "cell_type": "markdown",
   "id": "8654a9fa",
   "metadata": {},
   "source": [
    "#### Interpretation ☝️ \n",
    "\n",
    "**Factor Analysis** works by forming linear combinations of original variables to capture the shared variance among them — essentially identifying underlying latent factors. This process reduces the number of dimensions in the dataset while retaining most of the information (variance).\n",
    "\n",
    "Factor Analysis often involves rotation to make the results more interpretable. The goal of rotation is to simplify the factor structure so that each variable loads strongly on one factor and weakly on others, making it easier to assign meaningful labels to the factors. \n",
    "\n",
    "As a result, it enables us to condense a large set of observed variables into fewer composite factors that represent broader, hidden constructs. This simplification makes it easier to understand and analyze complex datasets.\n",
    "\n",
    "**The heatmap**<br>\n",
    "- Loadings ranging from -1 to 1. The loadings indicate the contribution of each orginal variable to the factor. \n",
    "- Loadings close to +1 or -1 indicate strong relationships\n",
    "- Loadings close to 0 indicate neglishible or weak relationships\n",
    "- Color coding: red means positive loadings while blue are negative loadings\n",
    "- The magnitude of the loading indicates the strength of the relationship, while the sign indicates its direction\n",
    "\n",
    "**\"No rotation\" and \"Varimax rotation\"**<br>\n",
    "Factor analysis often involves rotation to make the results more interpretable. No rotation leads to loadings harder to interpret because variables might have moderate loadings on multiple factors. Let's quickly move to the varimax rotation.\n",
    "\n",
    "Varimax rotation maximizes the variance of loadings within each factor, making the structure clearer by pushing loadings toward either +1 or -1 and minimizing intermediate values.\n",
    "\n",
    "**Observations**\n",
    "- Varimax's Factor 1: Oil and Density seem to have an opposite loading on the same factor, meaning they are both important contributors but in opposing directions. \n",
    "- Varimax's Factor 2: Factor 2 appears to reflect textural properties , where higher values correspond to greater fracture resistance , while lower values are associated with increased crispiness and hardness.\n",
    "\n",
    "\n",
    "<br>**<div class=\"alert alert-block alert-info\">Important observation:** <br>Factor loadings don't indicate direct correlation between ariables, but how each variable relates to an underlying latent factor\n",
    "</div>"
   ]
  },
  {
   "cell_type": "markdown",
   "id": "8956d2ac",
   "metadata": {},
   "source": [
    "#### Uniqueness\n",
    "\n",
    "Uniqueness is literally the opposite of the common factors: The proportion of a variable’s variance that is NOT explained by the common factors. So basically we have:\n",
    "- Uniqueness = 1 − Communality .\n",
    "- Communality is the proportion of a variable’s variance that is explained by the common factors.\n",
    "- Therefore, Uniqueness is the remaining variance that is not explained by these factors.ç\n",
    "\n",
    "**Ok all good till here, but how do we interpret uniquness?**\n",
    "- A low uniqueness value indicates that most of the variable’s variance is explained by the common factors, suggesting the variable fits well into the factor structure.\n",
    "- A high uniqueness value indicates that much of the variable’s variance is not explained by the common factors, suggesting the variable may not fit well with the other variables or might have unique characteristics."
   ]
  },
  {
   "cell_type": "code",
   "execution_count": 9,
   "id": "c3958b0b",
   "metadata": {},
   "outputs": [
    {
     "data": {
      "text/plain": [
       "<Axes: ylabel='Uniqueness'>"
      ]
     },
     "execution_count": 9,
     "metadata": {},
     "output_type": "execute_result"
    },
    {
     "data": {
      "image/png": "[encoded data removed]",
      "text/plain": [
       "<Figure size 640x480 with 1 Axes>"
      ]
     },
     "metadata": {},
     "output_type": "display_data"
    }
   ],
   "source": [
    "fa = FactorAnalysis(n_components = 2, rotation=\"varimax\")\n",
    "fa.fit(X)\n",
    "uniqueness = pd.Series(fa.noise_variance_, index=food.columns)\n",
    "uniqueness.plot(\n",
    "    kind=\"bar\",\n",
    "    ylabel=\"Uniqueness\"\n",
    ")"
   ]
  },
  {
   "cell_type": "markdown",
   "id": "2f512379",
   "metadata": {},
   "source": [
    "#### Interpretation ☝️ \n",
    "\n",
    "- Oil has a high uniqueness (0.33). This means about 33% of Oliv's variance is NOT explained by the common factors. The same we could say about Hardness and we can apply the same logic to the rest of variables with its relative %s.\n",
    "- Crispy has a very low uniqueness, meaning 93% of its variance its explanied by the common factors.\n",
    "- This suggests that Crispy fits well into the factor structure and is strongly related to the underlying latent constructs captured by the analysis. At the same time it loads strongly on both Factors of the Varimax heatmap, so it's a reliable contributor.\n",
    "- Hardness is strongly associated with Factor 2, although nearly 40% of its variance remains unexplained by the common factors\n",
    "\n",
    "<br>**<div class=\"alert alert-block alert-info\">Important observation:** <br>High uniqueness does not mean we should ignore the Factor Analysis results seen in the heatmap. However, it does suggest that some variables have a significant portion of variance not explained by the common factors , which means the overall factor model might explain less of the total variance. Therefore, interpretations and conclusions should reflect this uncertainty. \n",
    "</div>"
   ]
  }
 ],
 "metadata": {
  "kernelspec": {
   "display_name": "Python 3",
   "language": "python",
   "name": "python3"
  },
  "language_info": {
   "codemirror_mode": {
    "name": "ipython",
    "version": 3
   },
   "file_extension": ".py",
   "mimetype": "text/x-python",
   "name": "python",
   "nbconvert_exporter": "python",
   "pygments_lexer": "ipython3",
   "version": "3.13.1"
  }
 },
 "nbformat": 4,
 "nbformat_minor": 5
}
